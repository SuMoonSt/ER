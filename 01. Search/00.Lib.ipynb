{
 "cells": [
  {
   "cell_type": "code",
   "execution_count": 1,
   "metadata": {},
   "outputs": [
    {
     "name": "stdout",
     "output_type": "stream",
     "text": [
      "Collecting PyQt5\n",
      "  Downloading PyQt5-5.15.11-cp38-abi3-win_amd64.whl.metadata (2.1 kB)\n",
      "Collecting PyQt5-sip<13,>=12.15 (from PyQt5)\n",
      "  Downloading PyQt5_sip-12.15.0-cp312-cp312-win_amd64.whl.metadata (439 bytes)\n",
      "Collecting PyQt5-Qt5<5.16.0,>=5.15.2 (from PyQt5)\n",
      "  Downloading PyQt5_Qt5-5.15.2-py3-none-win_amd64.whl.metadata (552 bytes)\n",
      "Downloading PyQt5-5.15.11-cp38-abi3-win_amd64.whl (6.9 MB)\n",
      "   ---------------------------------------- 0.0/6.9 MB ? eta -:--:--\n",
      "   ------------------ --------------------- 3.1/6.9 MB 16.8 MB/s eta 0:00:01\n",
      "   ---------------------------------------  6.8/6.9 MB 17.5 MB/s eta 0:00:01\n",
      "   ---------------------------------------- 6.9/6.9 MB 16.3 MB/s eta 0:00:00\n",
      "Downloading PyQt5_Qt5-5.15.2-py3-none-win_amd64.whl (50.1 MB)\n",
      "   ---------------------------------------- 0.0/50.1 MB ? eta -:--:--\n",
      "   -- ------------------------------------- 3.7/50.1 MB 16.8 MB/s eta 0:00:03\n",
      "   ----- ---------------------------------- 7.3/50.1 MB 17.4 MB/s eta 0:00:03\n",
      "   --------- ------------------------------ 11.3/50.1 MB 18.0 MB/s eta 0:00:03\n",
      "   ----------- ---------------------------- 14.9/50.1 MB 18.1 MB/s eta 0:00:02\n",
      "   --------------- ------------------------ 18.9/50.1 MB 18.0 MB/s eta 0:00:02\n",
      "   ------------------ --------------------- 22.5/50.1 MB 18.3 MB/s eta 0:00:02\n",
      "   --------------------- ------------------ 26.5/50.1 MB 18.4 MB/s eta 0:00:02\n",
      "   ------------------------ --------------- 30.1/50.1 MB 18.4 MB/s eta 0:00:02\n",
      "   --------------------------- ------------ 33.8/50.1 MB 18.2 MB/s eta 0:00:01\n",
      "   ----------------------------- ---------- 37.2/50.1 MB 18.1 MB/s eta 0:00:01\n",
      "   -------------------------------- ------- 40.4/50.1 MB 17.8 MB/s eta 0:00:01\n",
      "   ---------------------------------- ----- 43.8/50.1 MB 17.7 MB/s eta 0:00:01\n",
      "   ------------------------------------- -- 47.2/50.1 MB 17.7 MB/s eta 0:00:01\n",
      "   ---------------------------------------  50.1/50.1 MB 17.7 MB/s eta 0:00:01\n",
      "   ---------------------------------------- 50.1/50.1 MB 17.1 MB/s eta 0:00:00\n",
      "Downloading PyQt5_sip-12.15.0-cp312-cp312-win_amd64.whl (57 kB)\n",
      "Installing collected packages: PyQt5-Qt5, PyQt5-sip, PyQt5\n",
      "Successfully installed PyQt5-5.15.11 PyQt5-Qt5-5.15.2 PyQt5-sip-12.15.0\n",
      "Note: you may need to restart the kernel to use updated packages.\n"
     ]
    }
   ],
   "source": [
    "pip install PyQt5"
   ]
  },
  {
   "cell_type": "code",
   "execution_count": null,
   "metadata": {},
   "outputs": [],
   "source": []
  }
 ],
 "metadata": {
  "kernelspec": {
   "display_name": "Python 3",
   "language": "python",
   "name": "python3"
  },
  "language_info": {
   "codemirror_mode": {
    "name": "ipython",
    "version": 3
   },
   "file_extension": ".py",
   "mimetype": "text/x-python",
   "name": "python",
   "nbconvert_exporter": "python",
   "pygments_lexer": "ipython3",
   "version": "3.12.1"
  }
 },
 "nbformat": 4,
 "nbformat_minor": 2
}
