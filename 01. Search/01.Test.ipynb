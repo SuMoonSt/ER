{
 "cells": [
  {
   "cell_type": "code",
   "execution_count": 6,
   "metadata": {},
   "outputs": [
    {
     "name": "stdout",
     "output_type": "stream",
     "text": [
      "검성아시나잇신\n",
      "\n",
      "23MRFT73\n",
      "\n"
     ]
    }
   ],
   "source": [
    "import cv2 #OpenCV(Open Source Computer Vision Library)의 파이썬 바인딩\n",
    "import pytesseract\n",
    "from PIL import Image\n",
    "import numpy as np\n",
    "\n",
    "pytesseract.pytesseract.tesseract_cmd = r'C:\\\\Program Files\\\\Tesseract-OCR\\\\tesseract.exe'\n",
    "\n",
    "image_path = 'C:\\\\Start\\\\python_basic\\\\05.Tesseract\\\\Image\\\\test1.jpg'\n",
    "pil_image = Image.open(image_path)\n",
    "image = np.array(pil_image) #PIL 이미지를 NumPy 배열로 변환하면 OpenCV와 같은 이미지 처리 라이브러리와의 호환성, 고속 연산, 배열 조작의 유연성 등의 장점이 있지만, 메모리 사용량 증가와 변환 오버헤드, 형식 차이 등 단점이 있음\n",
    "#pil_image = Image.fromarray(image)\n",
    "\n",
    "start_len: int = 1080\n",
    "start_hgt: int = 930\n",
    "nameSpace_interval: int = 284\n",
    "nameSpace_len: int = 135\n",
    "nameSpace_hgt: int = 20\n",
    "#(1080,930,1215,950) 초기값\n",
    "\n",
    "for i in range(0,3):\n",
    "    crop_area = (start_len+(nameSpace_interval*i),start_hgt,start_len+(nameSpace_interval*i)+nameSpace_len,start_hgt+nameSpace_hgt) # 특정 영역 자르기 (left, upper, right, lower)\n",
    "    cropped_image = image[crop_area[1]:crop_area[3], crop_area[0]:crop_area[2]]\n",
    "    result = pytesseract.image_to_string(cropped_image, lang='kor+eng+jpn')\n",
    "    if not result:\n",
    "        cv2.imshow(f'Cropped Image {i+1}', cropped_image)\n",
    "        cv2.waitKey(0)\n",
    "        cv2.destroyAllWindows()\n",
    "    else:\n",
    "        print(result)"
   ]
  },
  {
   "cell_type": "code",
   "execution_count": 5,
   "metadata": {},
   "outputs": [
    {
     "name": "stdout",
     "output_type": "stream",
     "text": [
      "\n",
      "\n",
      "\n"
     ]
    }
   ],
   "source": [
    "# 이미지를 흑백화하여 OCR인식하고자 했음\n",
    "\n",
    "import cv2 #OpenCV(Open Source Computer Vision Library)의 파이썬 바인딩\n",
    "import pytesseract\n",
    "from PIL import Image\n",
    "import numpy as np\n",
    "\n",
    "pytesseract.pytesseract.tesseract_cmd = r'C:\\\\Program Files\\\\Tesseract-OCR\\\\tesseract.exe'\n",
    "\n",
    "image_path = 'C:\\\\Start\\\\python_basic\\\\05.Tesseract\\\\Image\\\\test10.jpg'\n",
    "image = cv2.imread(image_path)\n",
    "gray = cv2.cvtColor(image, cv2.COLOR_BGR2GRAY) # 이미지 회색조로 변환\n",
    "_, binary = cv2.threshold(gray, 128, 255, cv2.THRESH_BINARY_INV) # 이진화 (흑백으로 변환)\n",
    "kernel = np.ones((3, 3), np.uint8)\n",
    "cleaned = cv2.morphologyEx(binary, cv2.MORPH_CLOSE, kernel)\n",
    "scale_factor = 1.5\n",
    "width = int(image.shape[1] * scale_factor)\n",
    "height = int(image.shape[0] * scale_factor)\n",
    "dim = (width, height)\n",
    "resized = cv2.resize(image, dim, interpolation=cv2.INTER_AREA)\n",
    "\n",
    "cv2.imshow('Opened Image', resized)\n",
    "cv2.waitKey(0)\n",
    "cv2.destroyAllWindows()\n",
    "#cv2.imwrite('processed_image.jpg', thresh) # OpenCV를 사용하여 이미지 파일로 저장\n",
    "#processed_image = Image.open('processed_image.jpg')\n",
    "\n",
    "start_len: int = 1080\n",
    "start_hgt: int = 930\n",
    "nameSpace_interval: int = 284\n",
    "nameSpace_len: int = 135\n",
    "nameSpace_hgt: int = 20\n",
    "#(1080,930,1215,950) 초기값\n",
    "\n",
    "for i in range(0,3):\n",
    "    crop_area = (start_len+(nameSpace_interval*i),start_hgt,\n",
    "                 start_len+(nameSpace_interval*i)+nameSpace_len,start_hgt+nameSpace_hgt) # 특정 영역 자르기 (left, upper, right, lower)\n",
    "    cropped_image = resized[crop_area[1]:crop_area[3], crop_area[0]:crop_area[2]]\n",
    "    # Display the cropped image using OpenCV\n",
    "    cv2.imshow(f'Cropped Image {i+1}', cropped_image)\n",
    "    cv2.waitKey(0)\n",
    "    cv2.destroyAllWindows()\n",
    "\n",
    "    result = pytesseract.image_to_string(cropped_image, lang='eng+kor')\n",
    "    print(result)"
   ]
  },
  {
   "cell_type": "code",
   "execution_count": null,
   "metadata": {},
   "outputs": [],
   "source": []
  }
 ],
 "metadata": {
  "kernelspec": {
   "display_name": "Python 3",
   "language": "python",
   "name": "python3"
  },
  "language_info": {
   "codemirror_mode": {
    "name": "ipython",
    "version": 3
   },
   "file_extension": ".py",
   "mimetype": "text/x-python",
   "name": "python",
   "nbconvert_exporter": "python",
   "pygments_lexer": "ipython3",
   "version": "3.12.1"
  }
 },
 "nbformat": 4,
 "nbformat_minor": 2
}
